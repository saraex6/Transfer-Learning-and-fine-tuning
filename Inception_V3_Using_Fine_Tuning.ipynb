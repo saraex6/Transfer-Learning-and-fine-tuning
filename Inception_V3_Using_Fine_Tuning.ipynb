{
  "nbformat": 4,
  "nbformat_minor": 0,
  "metadata": {
    "colab": {
      "name": "Inception V3 Using Fine-Tuning.ipynb",
      "provenance": [],
      "collapsed_sections": [],
      "include_colab_link": true
    },
    "kernelspec": {
      "name": "python3",
      "display_name": "Python 3"
    },
    "language_info": {
      "name": "python"
    }
  },
  "cells": [
    {
      "cell_type": "markdown",
      "metadata": {
        "id": "view-in-github",
        "colab_type": "text"
      },
      "source": [
        "<a href=\"https://colab.research.google.com/github/saraex6/Transfer-Learning-and-fine-tuning---VGG16-ResNet-50-Inception-V3-/blob/main/Inception_V3_Using_Fine_Tuning.ipynb\" target=\"_parent\"><img src=\"https://colab.research.google.com/assets/colab-badge.svg\" alt=\"Open In Colab\"/></a>"
      ]
    },
    {
      "cell_type": "code",
      "metadata": {
        "colab": {
          "base_uri": "https://localhost:8080/"
        },
        "id": "5ft52xEfFdzh",
        "outputId": "3484af88-696e-471c-8941-4358fa3240e4"
      },
      "source": [
        "#Mounting Google Drive\n",
        "\n",
        "from google.colab import drive\n",
        "drive.mount('/content/gdrive')"
      ],
      "execution_count": 26,
      "outputs": [
        {
          "output_type": "stream",
          "name": "stdout",
          "text": [
            "Drive already mounted at /content/gdrive; to attempt to forcibly remount, call drive.mount(\"/content/gdrive\", force_remount=True).\n"
          ]
        }
      ]
    },
    {
      "cell_type": "code",
      "metadata": {
        "id": "C4NM2R-mGLhZ"
      },
      "source": [
        "import os\n",
        "from tensorflow import keras\n",
        "from keras.models import Model\n",
        "from tensorflow.keras.optimizers import Adam\n",
        "from tensorflow.keras.applications.inception_v3 import InceptionV3, preprocess_input\n",
        "from keras.preprocessing.image import ImageDataGenerator\n",
        "from keras.callbacks import ModelCheckpoint, EarlyStopping\n",
        "from keras.layers import Dense, Dropout, Flatten\n",
        "from pathlib import Path\n",
        "import numpy as np"
      ],
      "execution_count": 27,
      "outputs": []
    },
    {
      "cell_type": "markdown",
      "metadata": {
        "id": "IjouLV6qY4Iw"
      },
      "source": [
        "# Define image transformations"
      ]
    },
    {
      "cell_type": "code",
      "metadata": {
        "id": "bEB9tsYpGirm"
      },
      "source": [
        "BATCH_SIZE = 64\n",
        "from keras.preprocessing.image import ImageDataGenerator\n",
        "from keras.applications.imagenet_utils import preprocess_input\n",
        "\n",
        "train_generator = ImageDataGenerator(rotation_range=90, \n",
        "                                     brightness_range=[0.1, 0.7],\n",
        "                                     width_shift_range=0.5, \n",
        "                                     height_shift_range=0.5,\n",
        "                                     horizontal_flip=True, \n",
        "                                     vertical_flip=True,\n",
        "                                     validation_split=0.15,\n",
        "                                     preprocessing_function=preprocess_input) \n",
        "\n",
        "test_generator = ImageDataGenerator(preprocessing_function=preprocess_input) \n"
      ],
      "execution_count": 28,
      "outputs": []
    },
    {
      "cell_type": "markdown",
      "metadata": {
        "id": "npSsj8Ko0aPG"
      },
      "source": [
        "# Downloading the Dataset"
      ]
    },
    {
      "cell_type": "code",
      "metadata": {
        "colab": {
          "base_uri": "https://localhost:8080/"
        },
        "id": "UAKKu5BqGikP",
        "outputId": "63070a39-d516-41e9-a9c8-ccc1b8e16199"
      },
      "source": [
        "train_data_dir = '/content/gdrive/MyDrive/Train'\n",
        "test_data_dir = '/content/gdrive/MyDrive/Test'\n",
        "\n",
        "traingen = train_generator.flow_from_directory(train_data_dir,\n",
        "                                               target_size=(299, 299),\n",
        "                                               class_mode='categorical',\n",
        "                                               subset='training',\n",
        "                                               batch_size=BATCH_SIZE, \n",
        "                                               shuffle=True,\n",
        "                                               seed=42)\n",
        "\n",
        "validgen = train_generator.flow_from_directory(train_data_dir,\n",
        "                                               target_size=(299, 299),\n",
        "                                               class_mode='categorical',\n",
        "                                               subset='validation',\n",
        "                                               batch_size=BATCH_SIZE,\n",
        "                                               shuffle=True,\n",
        "                                               seed=42)\n",
        "\n",
        "testgen = test_generator.flow_from_directory(test_data_dir,\n",
        "                                             target_size=(299, 299),\n",
        "                                             class_mode=None,\n",
        "                                             batch_size=1,\n",
        "                                             shuffle=False,\n",
        "                                             seed=42)\n"
      ],
      "execution_count": 29,
      "outputs": [
        {
          "output_type": "stream",
          "name": "stdout",
          "text": [
            "Found 1022 images belonging to 2 classes.\n",
            "Found 180 images belonging to 2 classes.\n",
            "Found 212 images belonging to 2 classes.\n"
          ]
        }
      ]
    },
    {
      "cell_type": "markdown",
      "metadata": {
        "id": "VHnv-hkvghhE"
      },
      "source": [
        "# Using pre-trained layers for fine-tuning\n",
        "\n"
      ]
    },
    {
      "cell_type": "code",
      "metadata": {
        "id": "8W10JgEw7whZ",
        "colab": {
          "base_uri": "https://localhost:8080/"
        },
        "outputId": "9e15df7e-eb28-430e-c495-8e71ed93933d"
      },
      "source": [
        "from tensorflow.keras.applications.inception_v3 import InceptionV3\n",
        "from tensorflow.keras.preprocessing import image\n",
        "from tensorflow.keras.models import Model\n",
        "from tensorflow.keras.layers import Dense, GlobalAveragePooling2D\n",
        "\n",
        "# create the base pre-trained model\n",
        "base_model = InceptionV3(weights='imagenet', include_top=False)\n",
        "\n",
        "# add a global spatial average pooling layer\n",
        "x = base_model.output\n",
        "x = GlobalAveragePooling2D()(x)\n",
        "# let's add a fully-connected layer\n",
        "x = Dense(1024, activation='relu')(x)\n",
        "# and a logistic layer -- we have 2 classes\n",
        "predictions = Dense(2, activation='softmax')(x)\n",
        "\n",
        "# this is the model we will train\n",
        "model = Model(inputs=base_model.input, outputs=predictions)\n",
        "\n",
        "# first: train only the top layers (which were randomly initialized)\n",
        "# i.e. freeze all convolutional InceptionV3 layers\n",
        "for layer in base_model.layers:\n",
        "    layer.trainable = False\n",
        "\n",
        "# compile the model (should be done *after* setting layers to non-trainable)\n",
        "model.compile(optimizer='rmsprop', loss='categorical_crossentropy', metrics=['accuracy'])\n",
        "                                                                             \n",
        "\n",
        "# at this point, the top layers are well trained and we can start fine-tuning\n",
        "# convolutional layers from inception V3. We will freeze the bottom N layers\n",
        "# and train the remaining top layers.\n",
        "\n",
        "# let's visualize layer names and layer indices to see how many layers\n",
        "# we should freeze:\n",
        "for i, layer in enumerate(base_model.layers):\n",
        "   print(i, layer.name)\n",
        "\n",
        "# we chose to train the top 2 inception blocks, i.e. we will freeze\n",
        "# the first 249 layers and unfreeze the rest:\n",
        "for layer in model.layers[:249]:\n",
        "   layer.trainable = False\n",
        "for layer in model.layers[249:]:\n",
        "   layer.trainable = True\n",
        "\n",
        "# we need to recompile the model for these modifications to take effect\n",
        "# we use SGD with a low learning rate\n",
        "from tensorflow.keras.optimizers import SGD\n",
        "model.compile(optimizer=SGD(lr=0.0001, momentum=0.9), loss='categorical_crossentropy' ,metrics=['accuracy'])\n",
        "\n"
      ],
      "execution_count": 30,
      "outputs": [
        {
          "output_type": "stream",
          "name": "stdout",
          "text": [
            "0 input_3\n",
            "1 conv2d_188\n",
            "2 batch_normalization_188\n",
            "3 activation_188\n",
            "4 conv2d_189\n",
            "5 batch_normalization_189\n",
            "6 activation_189\n",
            "7 conv2d_190\n",
            "8 batch_normalization_190\n",
            "9 activation_190\n",
            "10 max_pooling2d_8\n",
            "11 conv2d_191\n",
            "12 batch_normalization_191\n",
            "13 activation_191\n",
            "14 conv2d_192\n",
            "15 batch_normalization_192\n",
            "16 activation_192\n",
            "17 max_pooling2d_9\n",
            "18 conv2d_196\n",
            "19 batch_normalization_196\n",
            "20 activation_196\n",
            "21 conv2d_194\n",
            "22 conv2d_197\n",
            "23 batch_normalization_194\n",
            "24 batch_normalization_197\n",
            "25 activation_194\n",
            "26 activation_197\n",
            "27 average_pooling2d_18\n",
            "28 conv2d_193\n",
            "29 conv2d_195\n",
            "30 conv2d_198\n",
            "31 conv2d_199\n",
            "32 batch_normalization_193\n",
            "33 batch_normalization_195\n",
            "34 batch_normalization_198\n",
            "35 batch_normalization_199\n",
            "36 activation_193\n",
            "37 activation_195\n",
            "38 activation_198\n",
            "39 activation_199\n",
            "40 mixed0\n",
            "41 conv2d_203\n",
            "42 batch_normalization_203\n",
            "43 activation_203\n",
            "44 conv2d_201\n",
            "45 conv2d_204\n",
            "46 batch_normalization_201\n",
            "47 batch_normalization_204\n",
            "48 activation_201\n",
            "49 activation_204\n",
            "50 average_pooling2d_19\n",
            "51 conv2d_200\n",
            "52 conv2d_202\n",
            "53 conv2d_205\n",
            "54 conv2d_206\n",
            "55 batch_normalization_200\n",
            "56 batch_normalization_202\n",
            "57 batch_normalization_205\n",
            "58 batch_normalization_206\n",
            "59 activation_200\n",
            "60 activation_202\n",
            "61 activation_205\n",
            "62 activation_206\n",
            "63 mixed1\n",
            "64 conv2d_210\n",
            "65 batch_normalization_210\n",
            "66 activation_210\n",
            "67 conv2d_208\n",
            "68 conv2d_211\n",
            "69 batch_normalization_208\n",
            "70 batch_normalization_211\n",
            "71 activation_208\n",
            "72 activation_211\n",
            "73 average_pooling2d_20\n",
            "74 conv2d_207\n",
            "75 conv2d_209\n",
            "76 conv2d_212\n",
            "77 conv2d_213\n",
            "78 batch_normalization_207\n",
            "79 batch_normalization_209\n",
            "80 batch_normalization_212\n",
            "81 batch_normalization_213\n",
            "82 activation_207\n",
            "83 activation_209\n",
            "84 activation_212\n",
            "85 activation_213\n",
            "86 mixed2\n",
            "87 conv2d_215\n",
            "88 batch_normalization_215\n",
            "89 activation_215\n",
            "90 conv2d_216\n",
            "91 batch_normalization_216\n",
            "92 activation_216\n",
            "93 conv2d_214\n",
            "94 conv2d_217\n",
            "95 batch_normalization_214\n",
            "96 batch_normalization_217\n",
            "97 activation_214\n",
            "98 activation_217\n",
            "99 max_pooling2d_10\n",
            "100 mixed3\n",
            "101 conv2d_222\n",
            "102 batch_normalization_222\n",
            "103 activation_222\n",
            "104 conv2d_223\n",
            "105 batch_normalization_223\n",
            "106 activation_223\n",
            "107 conv2d_219\n",
            "108 conv2d_224\n",
            "109 batch_normalization_219\n",
            "110 batch_normalization_224\n",
            "111 activation_219\n",
            "112 activation_224\n",
            "113 conv2d_220\n",
            "114 conv2d_225\n",
            "115 batch_normalization_220\n",
            "116 batch_normalization_225\n",
            "117 activation_220\n",
            "118 activation_225\n",
            "119 average_pooling2d_21\n",
            "120 conv2d_218\n",
            "121 conv2d_221\n",
            "122 conv2d_226\n",
            "123 conv2d_227\n",
            "124 batch_normalization_218\n",
            "125 batch_normalization_221\n",
            "126 batch_normalization_226\n",
            "127 batch_normalization_227\n",
            "128 activation_218\n",
            "129 activation_221\n",
            "130 activation_226\n",
            "131 activation_227\n",
            "132 mixed4\n",
            "133 conv2d_232\n",
            "134 batch_normalization_232\n",
            "135 activation_232\n",
            "136 conv2d_233\n",
            "137 batch_normalization_233\n",
            "138 activation_233\n",
            "139 conv2d_229\n",
            "140 conv2d_234\n",
            "141 batch_normalization_229\n",
            "142 batch_normalization_234\n",
            "143 activation_229\n",
            "144 activation_234\n",
            "145 conv2d_230\n",
            "146 conv2d_235\n",
            "147 batch_normalization_230\n",
            "148 batch_normalization_235\n",
            "149 activation_230\n",
            "150 activation_235\n",
            "151 average_pooling2d_22\n",
            "152 conv2d_228\n",
            "153 conv2d_231\n",
            "154 conv2d_236\n",
            "155 conv2d_237\n",
            "156 batch_normalization_228\n",
            "157 batch_normalization_231\n",
            "158 batch_normalization_236\n",
            "159 batch_normalization_237\n",
            "160 activation_228\n",
            "161 activation_231\n",
            "162 activation_236\n",
            "163 activation_237\n",
            "164 mixed5\n",
            "165 conv2d_242\n",
            "166 batch_normalization_242\n",
            "167 activation_242\n",
            "168 conv2d_243\n",
            "169 batch_normalization_243\n",
            "170 activation_243\n",
            "171 conv2d_239\n",
            "172 conv2d_244\n",
            "173 batch_normalization_239\n",
            "174 batch_normalization_244\n",
            "175 activation_239\n",
            "176 activation_244\n",
            "177 conv2d_240\n",
            "178 conv2d_245\n",
            "179 batch_normalization_240\n",
            "180 batch_normalization_245\n",
            "181 activation_240\n",
            "182 activation_245\n",
            "183 average_pooling2d_23\n",
            "184 conv2d_238\n",
            "185 conv2d_241\n",
            "186 conv2d_246\n",
            "187 conv2d_247\n",
            "188 batch_normalization_238\n",
            "189 batch_normalization_241\n",
            "190 batch_normalization_246\n",
            "191 batch_normalization_247\n",
            "192 activation_238\n",
            "193 activation_241\n",
            "194 activation_246\n",
            "195 activation_247\n",
            "196 mixed6\n",
            "197 conv2d_252\n",
            "198 batch_normalization_252\n",
            "199 activation_252\n",
            "200 conv2d_253\n",
            "201 batch_normalization_253\n",
            "202 activation_253\n",
            "203 conv2d_249\n",
            "204 conv2d_254\n",
            "205 batch_normalization_249\n",
            "206 batch_normalization_254\n",
            "207 activation_249\n",
            "208 activation_254\n",
            "209 conv2d_250\n",
            "210 conv2d_255\n",
            "211 batch_normalization_250\n",
            "212 batch_normalization_255\n",
            "213 activation_250\n",
            "214 activation_255\n",
            "215 average_pooling2d_24\n",
            "216 conv2d_248\n",
            "217 conv2d_251\n",
            "218 conv2d_256\n",
            "219 conv2d_257\n",
            "220 batch_normalization_248\n",
            "221 batch_normalization_251\n",
            "222 batch_normalization_256\n",
            "223 batch_normalization_257\n",
            "224 activation_248\n",
            "225 activation_251\n",
            "226 activation_256\n",
            "227 activation_257\n",
            "228 mixed7\n",
            "229 conv2d_260\n",
            "230 batch_normalization_260\n",
            "231 activation_260\n",
            "232 conv2d_261\n",
            "233 batch_normalization_261\n",
            "234 activation_261\n",
            "235 conv2d_258\n",
            "236 conv2d_262\n",
            "237 batch_normalization_258\n",
            "238 batch_normalization_262\n",
            "239 activation_258\n",
            "240 activation_262\n",
            "241 conv2d_259\n",
            "242 conv2d_263\n",
            "243 batch_normalization_259\n",
            "244 batch_normalization_263\n",
            "245 activation_259\n",
            "246 activation_263\n",
            "247 max_pooling2d_11\n",
            "248 mixed8\n",
            "249 conv2d_268\n",
            "250 batch_normalization_268\n",
            "251 activation_268\n",
            "252 conv2d_265\n",
            "253 conv2d_269\n",
            "254 batch_normalization_265\n",
            "255 batch_normalization_269\n",
            "256 activation_265\n",
            "257 activation_269\n",
            "258 conv2d_266\n",
            "259 conv2d_267\n",
            "260 conv2d_270\n",
            "261 conv2d_271\n",
            "262 average_pooling2d_25\n",
            "263 conv2d_264\n",
            "264 batch_normalization_266\n",
            "265 batch_normalization_267\n",
            "266 batch_normalization_270\n",
            "267 batch_normalization_271\n",
            "268 conv2d_272\n",
            "269 batch_normalization_264\n",
            "270 activation_266\n",
            "271 activation_267\n",
            "272 activation_270\n",
            "273 activation_271\n",
            "274 batch_normalization_272\n",
            "275 activation_264\n",
            "276 mixed9_0\n",
            "277 concatenate_4\n",
            "278 activation_272\n",
            "279 mixed9\n",
            "280 conv2d_277\n",
            "281 batch_normalization_277\n",
            "282 activation_277\n",
            "283 conv2d_274\n",
            "284 conv2d_278\n",
            "285 batch_normalization_274\n",
            "286 batch_normalization_278\n",
            "287 activation_274\n",
            "288 activation_278\n",
            "289 conv2d_275\n",
            "290 conv2d_276\n",
            "291 conv2d_279\n",
            "292 conv2d_280\n",
            "293 average_pooling2d_26\n",
            "294 conv2d_273\n",
            "295 batch_normalization_275\n",
            "296 batch_normalization_276\n",
            "297 batch_normalization_279\n",
            "298 batch_normalization_280\n",
            "299 conv2d_281\n",
            "300 batch_normalization_273\n",
            "301 activation_275\n",
            "302 activation_276\n",
            "303 activation_279\n",
            "304 activation_280\n",
            "305 batch_normalization_281\n",
            "306 activation_273\n",
            "307 mixed9_1\n",
            "308 concatenate_5\n",
            "309 activation_281\n",
            "310 mixed10\n"
          ]
        },
        {
          "output_type": "stream",
          "name": "stderr",
          "text": [
            "/usr/local/lib/python3.7/dist-packages/keras/optimizer_v2/gradient_descent.py:102: UserWarning: The `lr` argument is deprecated, use `learning_rate` instead.\n",
            "  super(SGD, self).__init__(name, **kwargs)\n"
          ]
        }
      ]
    },
    {
      "cell_type": "code",
      "metadata": {
        "id": "jdHEl8LT8CeP"
      },
      "source": [
        "#input shape of Inception model\n",
        "input_shape = (299, 299, 3)\n",
        "optim_1 = Adam(learning_rate=0.001)\n",
        "n_classes=2\n",
        "\n",
        "n_steps = traingen.samples // BATCH_SIZE\n",
        "n_val_steps = validgen.samples // BATCH_SIZE\n",
        "\n"
      ],
      "execution_count": 31,
      "outputs": []
    },
    {
      "cell_type": "code",
      "metadata": {
        "colab": {
          "base_uri": "https://localhost:8080/"
        },
        "id": "3WgE_RTU8Sup",
        "outputId": "813114ae-4294-43f8-9727-516dcc0e0c7b"
      },
      "source": [
        "pip install git+git://github.com/stared/livelossplot.git"
      ],
      "execution_count": 32,
      "outputs": [
        {
          "output_type": "stream",
          "name": "stdout",
          "text": [
            "Collecting git+git://github.com/stared/livelossplot.git\n",
            "  Cloning git://github.com/stared/livelossplot.git to /tmp/pip-req-build-39z7qgtm\n",
            "  Running command git clone -q git://github.com/stared/livelossplot.git /tmp/pip-req-build-39z7qgtm\n",
            "Requirement already satisfied: ipython in /usr/local/lib/python3.7/dist-packages (from livelossplot==0.5.4) (5.5.0)\n",
            "Requirement already satisfied: matplotlib in /usr/local/lib/python3.7/dist-packages (from livelossplot==0.5.4) (3.2.2)\n",
            "Requirement already satisfied: bokeh in /usr/local/lib/python3.7/dist-packages (from livelossplot==0.5.4) (2.3.3)\n",
            "Requirement already satisfied: typing-extensions>=3.7.4 in /usr/local/lib/python3.7/dist-packages (from bokeh->livelossplot==0.5.4) (3.10.0.2)\n",
            "Requirement already satisfied: Jinja2>=2.9 in /usr/local/lib/python3.7/dist-packages (from bokeh->livelossplot==0.5.4) (2.11.3)\n",
            "Requirement already satisfied: python-dateutil>=2.1 in /usr/local/lib/python3.7/dist-packages (from bokeh->livelossplot==0.5.4) (2.8.2)\n",
            "Requirement already satisfied: PyYAML>=3.10 in /usr/local/lib/python3.7/dist-packages (from bokeh->livelossplot==0.5.4) (3.13)\n",
            "Requirement already satisfied: packaging>=16.8 in /usr/local/lib/python3.7/dist-packages (from bokeh->livelossplot==0.5.4) (21.3)\n",
            "Requirement already satisfied: pillow>=7.1.0 in /usr/local/lib/python3.7/dist-packages (from bokeh->livelossplot==0.5.4) (7.1.2)\n",
            "Requirement already satisfied: numpy>=1.11.3 in /usr/local/lib/python3.7/dist-packages (from bokeh->livelossplot==0.5.4) (1.19.5)\n",
            "Requirement already satisfied: tornado>=5.1 in /usr/local/lib/python3.7/dist-packages (from bokeh->livelossplot==0.5.4) (5.1.1)\n",
            "Requirement already satisfied: MarkupSafe>=0.23 in /usr/local/lib/python3.7/dist-packages (from Jinja2>=2.9->bokeh->livelossplot==0.5.4) (2.0.1)\n",
            "Requirement already satisfied: pyparsing!=3.0.5,>=2.0.2 in /usr/local/lib/python3.7/dist-packages (from packaging>=16.8->bokeh->livelossplot==0.5.4) (3.0.6)\n",
            "Requirement already satisfied: six>=1.5 in /usr/local/lib/python3.7/dist-packages (from python-dateutil>=2.1->bokeh->livelossplot==0.5.4) (1.15.0)\n",
            "Requirement already satisfied: decorator in /usr/local/lib/python3.7/dist-packages (from ipython->livelossplot==0.5.4) (4.4.2)\n",
            "Requirement already satisfied: pygments in /usr/local/lib/python3.7/dist-packages (from ipython->livelossplot==0.5.4) (2.6.1)\n",
            "Requirement already satisfied: simplegeneric>0.8 in /usr/local/lib/python3.7/dist-packages (from ipython->livelossplot==0.5.4) (0.8.1)\n",
            "Requirement already satisfied: pexpect in /usr/local/lib/python3.7/dist-packages (from ipython->livelossplot==0.5.4) (4.8.0)\n",
            "Requirement already satisfied: setuptools>=18.5 in /usr/local/lib/python3.7/dist-packages (from ipython->livelossplot==0.5.4) (57.4.0)\n",
            "Requirement already satisfied: traitlets>=4.2 in /usr/local/lib/python3.7/dist-packages (from ipython->livelossplot==0.5.4) (5.1.1)\n",
            "Requirement already satisfied: prompt-toolkit<2.0.0,>=1.0.4 in /usr/local/lib/python3.7/dist-packages (from ipython->livelossplot==0.5.4) (1.0.18)\n",
            "Requirement already satisfied: pickleshare in /usr/local/lib/python3.7/dist-packages (from ipython->livelossplot==0.5.4) (0.7.5)\n",
            "Requirement already satisfied: wcwidth in /usr/local/lib/python3.7/dist-packages (from prompt-toolkit<2.0.0,>=1.0.4->ipython->livelossplot==0.5.4) (0.2.5)\n",
            "Requirement already satisfied: kiwisolver>=1.0.1 in /usr/local/lib/python3.7/dist-packages (from matplotlib->livelossplot==0.5.4) (1.3.2)\n",
            "Requirement already satisfied: cycler>=0.10 in /usr/local/lib/python3.7/dist-packages (from matplotlib->livelossplot==0.5.4) (0.11.0)\n",
            "Requirement already satisfied: ptyprocess>=0.5 in /usr/local/lib/python3.7/dist-packages (from pexpect->ipython->livelossplot==0.5.4) (0.7.0)\n"
          ]
        }
      ]
    },
    {
      "cell_type": "code",
      "metadata": {
        "id": "PY_Oulow8IZq"
      },
      "source": [
        "from livelossplot.tf_keras import PlotLossesCallback\n",
        "from livelossplot.inputs.tf_keras import PlotLossesCallback\n",
        "from livelossplot import PlotLossesKeras\n",
        "\n",
        "plot_loss_1 = PlotLossesCallback()\n",
        "\n",
        "# ModelCheckpoint callback - save best weights\n",
        "tl_checkpoint_1 = ModelCheckpoint(filepath='tl_model_v1.weights.best.hdf5',\n",
        "                                  save_best_only=True,\n",
        "                                  verbose=1)\n",
        "\n",
        "# EarlyStopping: monitors the performance of the model and stopping the training process prevents overtraining\n",
        "early_stop = EarlyStopping(monitor='val_loss',\n",
        "                           patience=10,\n",
        "                           restore_best_weights=True,\n",
        "                           mode='min')\n"
      ],
      "execution_count": 33,
      "outputs": []
    },
    {
      "cell_type": "markdown",
      "metadata": {
        "id": "lvEhz2jcNDSl"
      },
      "source": [
        "# Train the model with fine-tuning"
      ]
    },
    {
      "cell_type": "code",
      "metadata": {
        "colab": {
          "base_uri": "https://localhost:8080/",
          "height": 751
        },
        "id": "-xsz5ndh71gp",
        "outputId": "7d48ec4c-8046-4048-8a1e-6bd0535f35db"
      },
      "source": [
        "%%time \n",
        "\n",
        "Inception_history = model.fit(traingen,\n",
        "                            batch_size=BATCH_SIZE,\n",
        "                            epochs=50,\n",
        "                            validation_data=validgen,\n",
        "                            steps_per_epoch=n_steps,\n",
        "                            validation_steps=n_val_steps,\n",
        "                            callbacks=[tl_checkpoint_1, early_stop, plot_loss_1],\n",
        "                            verbose=1)"
      ],
      "execution_count": 34,
      "outputs": [
        {
          "output_type": "display_data",
          "data": {
            "image/png": "[encoded data removed]",
            "text/plain": [
              "<Figure size 864x576 with 2 Axes>"
            ]
          },
          "metadata": {
            "needs_background": "light"
          }
        },
        {
          "output_type": "stream",
          "name": "stdout",
          "text": [
            "accuracy\n",
            "\ttraining         \t (min:    0.454, max:    0.623, cur:    0.609)\n",
            "\tvalidation       \t (min:    0.453, max:    0.758, cur:    0.695)\n",
            "Loss\n",
            "\ttraining         \t (min:    0.661, max:    0.717, cur:    0.661)\n",
            "\tvalidation       \t (min:    0.586, max:    0.717, cur:    0.602)\n",
            "\b\b\b\b\b\b\b\b\b\b\b\b\b\b\b\b\b\b\b\b\b\b\b\b\b\b\b\b\b\b\b\b\b\b\b\b\b\b\b\b\b\b\b\b\b\b\b\b\b\b\b\b\b\b\b\b\b\b\b\b\b\b\b\b\b\b\b\b\b\b\b\b\b\b\b\b\b\b\b\b\b\b\r15/15 [==============================] - 459s 30s/step - loss: 0.6614 - accuracy: 0.6086 - val_loss: 0.6017 - val_accuracy: 0.6953\n",
            "CPU times: user 8h 1min 22s, sys: 4min 41s, total: 8h 6min 4s\n",
            "Wall time: 4h 38min 45s\n"
          ]
        }
      ]
    },
    {
      "cell_type": "code",
      "metadata": {
        "id": "qKBioF9n3EbN"
      },
      "source": [
        "# Generate predictions\n",
        "model.load_weights('tl_model_v1.weights.best.hdf5') # initialize the best trained weights\n",
        "\n",
        "true_classes = testgen.classes\n",
        "class_indices = traingen.class_indices\n",
        "class_indices = dict((v,k) for k,v in class_indices.items())\n",
        "\n",
        "Inception_preds = model.predict(testgen)\n",
        "Inception_pred_classes = np.argmax(Inception_preds, axis=1)\n"
      ],
      "execution_count": 35,
      "outputs": []
    },
    {
      "cell_type": "markdown",
      "metadata": {
        "id": "SbOPmPux_1X5"
      },
      "source": [
        "# Evaluate the performance of Inception V3 using accuracy, F1 Score, precision, recall & loss metrics"
      ]
    },
    {
      "cell_type": "code",
      "metadata": {
        "colab": {
          "base_uri": "https://localhost:8080/"
        },
        "id": "kts2ZG-qeJlT",
        "outputId": "839aa551-818d-483a-c53d-aeb804bb2ef7"
      },
      "source": [
        "from sklearn.metrics import accuracy_score\n",
        "from sklearn.metrics import f1_score\n",
        "from sklearn.metrics import average_precision_score\n",
        "from sklearn.metrics import precision_score\n",
        "from sklearn.metrics import recall_score\n",
        "from sklearn.metrics import log_loss\n",
        "\n",
        "Inception_acc = accuracy_score(true_classes, Inception_pred_classes)\n",
        "print(\"Inception Model accuracy: {:.2f}%\".format(Inception_acc * 100))\n",
        "\n",
        "Inception_f1 = f1_score(true_classes, Inception_pred_classes)\n",
        "print(\"Inception Model f1 score: {:.2f}%\".format(Inception_f1 * 100))\n",
        "\n",
        "Inception_precision_score = precision_score(true_classes, Inception_pred_classes)\n",
        "print(\"Inception Model precision: {:.2f}%\".format(Inception_precision_score * 100))\n",
        "\n",
        "Inception_recall_score = recall_score(true_classes, Inception_pred_classes)\n",
        "print(\"Inception Model recall: {:.2f}%\".format(Inception_recall_score * 100))\n",
        "\n",
        "Inception_log_loss = log_loss(true_classes, Inception_pred_classes)\n",
        "print(\"Inception Model loss: {:.2f}%\".format(Inception_log_loss ))\n",
        "\n"
      ],
      "execution_count": 38,
      "outputs": [
        {
          "output_type": "stream",
          "name": "stdout",
          "text": [
            "Inception Model accuracy: 59.91%\n",
            "Inception Model f1 score: 43.71%\n",
            "Inception Model precision: 73.33%\n",
            "Inception Model recall: 31.13%\n",
            "Inception Model loss: 13.85%\n"
          ]
        }
      ]
    },
    {
      "cell_type": "markdown",
      "metadata": {
        "id": "7h9dxv6FALN9"
      },
      "source": [
        "# Plot confusion matrix "
      ]
    },
    {
      "cell_type": "code",
      "metadata": {
        "colab": {
          "base_uri": "https://localhost:8080/",
          "height": 729
        },
        "id": "j5gvai_Oecdz",
        "outputId": "e179b40e-5386-490e-8db8-e4c97ce26f94"
      },
      "source": [
        "import seaborn as sns\n",
        "from sklearn.metrics import confusion_matrix\n",
        "from sklearn.metrics import classification_report\n",
        "from matplotlib import pyplot as plt\n",
        "\n",
        "# Get the names of the classes\n",
        "class_names = testgen.class_indices.keys()\n",
        "\n",
        "def plot_heatmap(y_true, y_pred, class_names, ax, title):\n",
        "    cm = confusion_matrix(y_true, y_pred)\n",
        "    sns.heatmap(\n",
        "        cm, \n",
        "        annot=True, \n",
        "        square=True, \n",
        "        xticklabels=class_names, \n",
        "        yticklabels=class_names,\n",
        "        fmt='d', \n",
        "        cmap=plt.cm.Blues,\n",
        "        cbar=False,\n",
        "        ax=ax\n",
        "    )\n",
        "    ax.set_title(title, fontsize=16)\n",
        "    ax.set_xticklabels(ax.get_xticklabels(), rotation=45, ha=\"right\")\n",
        "    ax.set_ylabel('True Label', fontsize=12)\n",
        "    ax.set_xlabel('Predicted Label', fontsize=12)\n",
        "\n",
        "fig, (ax2) = plt.subplots(figsize=(20, 10))\n",
        "\n",
        "plot_heatmap(true_classes, Inception_pred_classes, class_names, ax2, title=\"Transfer Learning (Inception) with Fine-Tuning\")    \n",
        "\n",
        "fig.tight_layout()\n",
        "\n",
        "plt.show()\n"
      ],
      "execution_count": 39,
      "outputs": [
        {
          "output_type": "display_data",
          "data": {
            "image/png": "[encoded data removed]",
            "text/plain": [
              "<Figure size 1440x720 with 1 Axes>"
            ]
          },
          "metadata": {
            "needs_background": "light"
          }
        }
      ]
    }
  ]
}